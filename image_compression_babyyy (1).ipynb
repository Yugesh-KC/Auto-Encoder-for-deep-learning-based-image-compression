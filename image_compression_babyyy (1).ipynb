{
  "nbformat": 4,
  "nbformat_minor": 0,
  "metadata": {
    "colab": {
      "provenance": [],
      "gpuType": "T4"
    },
    "kernelspec": {
      "name": "python3",
      "display_name": "Python 3"
    },
    "language_info": {
      "name": "python"
    },
    "accelerator": "GPU"
  },
  "cells": [
    {
      "cell_type": "code",
      "source": [
        "pip install pytorch-msssim\n"
      ],
      "metadata": {
        "colab": {
          "base_uri": "https://localhost:8080/"
        },
        "id": "sIFlzQZQ2blx",
        "outputId": "1c27e358-6ced-4a67-f5b0-a1a9690cc5d6"
      },
      "execution_count": 1,
      "outputs": [
        {
          "output_type": "stream",
          "name": "stdout",
          "text": [
            "Collecting pytorch-msssim\n",
            "  Downloading pytorch_msssim-1.0.0-py3-none-any.whl.metadata (8.0 kB)\n",
            "Requirement already satisfied: torch in /usr/local/lib/python3.12/dist-packages (from pytorch-msssim) (2.8.0+cu126)\n",
            "Requirement already satisfied: filelock in /usr/local/lib/python3.12/dist-packages (from torch->pytorch-msssim) (3.20.0)\n",
            "Requirement already satisfied: typing-extensions>=4.10.0 in /usr/local/lib/python3.12/dist-packages (from torch->pytorch-msssim) (4.15.0)\n",
            "Requirement already satisfied: setuptools in /usr/local/lib/python3.12/dist-packages (from torch->pytorch-msssim) (75.2.0)\n",
            "Requirement already satisfied: sympy>=1.13.3 in /usr/local/lib/python3.12/dist-packages (from torch->pytorch-msssim) (1.13.3)\n",
            "Requirement already satisfied: networkx in /usr/local/lib/python3.12/dist-packages (from torch->pytorch-msssim) (3.5)\n",
            "Requirement already satisfied: jinja2 in /usr/local/lib/python3.12/dist-packages (from torch->pytorch-msssim) (3.1.6)\n",
            "Requirement already satisfied: fsspec in /usr/local/lib/python3.12/dist-packages (from torch->pytorch-msssim) (2025.3.0)\n",
            "Requirement already satisfied: nvidia-cuda-nvrtc-cu12==12.6.77 in /usr/local/lib/python3.12/dist-packages (from torch->pytorch-msssim) (12.6.77)\n",
            "Requirement already satisfied: nvidia-cuda-runtime-cu12==12.6.77 in /usr/local/lib/python3.12/dist-packages (from torch->pytorch-msssim) (12.6.77)\n",
            "Requirement already satisfied: nvidia-cuda-cupti-cu12==12.6.80 in /usr/local/lib/python3.12/dist-packages (from torch->pytorch-msssim) (12.6.80)\n",
            "Requirement already satisfied: nvidia-cudnn-cu12==9.10.2.21 in /usr/local/lib/python3.12/dist-packages (from torch->pytorch-msssim) (9.10.2.21)\n",
            "Requirement already satisfied: nvidia-cublas-cu12==12.6.4.1 in /usr/local/lib/python3.12/dist-packages (from torch->pytorch-msssim) (12.6.4.1)\n",
            "Requirement already satisfied: nvidia-cufft-cu12==11.3.0.4 in /usr/local/lib/python3.12/dist-packages (from torch->pytorch-msssim) (11.3.0.4)\n",
            "Requirement already satisfied: nvidia-curand-cu12==10.3.7.77 in /usr/local/lib/python3.12/dist-packages (from torch->pytorch-msssim) (10.3.7.77)\n",
            "Requirement already satisfied: nvidia-cusolver-cu12==11.7.1.2 in /usr/local/lib/python3.12/dist-packages (from torch->pytorch-msssim) (11.7.1.2)\n",
            "Requirement already satisfied: nvidia-cusparse-cu12==12.5.4.2 in /usr/local/lib/python3.12/dist-packages (from torch->pytorch-msssim) (12.5.4.2)\n",
            "Requirement already satisfied: nvidia-cusparselt-cu12==0.7.1 in /usr/local/lib/python3.12/dist-packages (from torch->pytorch-msssim) (0.7.1)\n",
            "Requirement already satisfied: nvidia-nccl-cu12==2.27.3 in /usr/local/lib/python3.12/dist-packages (from torch->pytorch-msssim) (2.27.3)\n",
            "Requirement already satisfied: nvidia-nvtx-cu12==12.6.77 in /usr/local/lib/python3.12/dist-packages (from torch->pytorch-msssim) (12.6.77)\n",
            "Requirement already satisfied: nvidia-nvjitlink-cu12==12.6.85 in /usr/local/lib/python3.12/dist-packages (from torch->pytorch-msssim) (12.6.85)\n",
            "Requirement already satisfied: nvidia-cufile-cu12==1.11.1.6 in /usr/local/lib/python3.12/dist-packages (from torch->pytorch-msssim) (1.11.1.6)\n",
            "Requirement already satisfied: triton==3.4.0 in /usr/local/lib/python3.12/dist-packages (from torch->pytorch-msssim) (3.4.0)\n",
            "Requirement already satisfied: mpmath<1.4,>=1.1.0 in /usr/local/lib/python3.12/dist-packages (from sympy>=1.13.3->torch->pytorch-msssim) (1.3.0)\n",
            "Requirement already satisfied: MarkupSafe>=2.0 in /usr/local/lib/python3.12/dist-packages (from jinja2->torch->pytorch-msssim) (3.0.3)\n",
            "Downloading pytorch_msssim-1.0.0-py3-none-any.whl (7.7 kB)\n",
            "Installing collected packages: pytorch-msssim\n",
            "Successfully installed pytorch-msssim-1.0.0\n"
          ]
        }
      ]
    },
    {
      "cell_type": "code",
      "execution_count": 28,
      "metadata": {
        "id": "X2sTz8e5GLPB"
      },
      "outputs": [],
      "source": [
        "import torch\n",
        "import torch.nn as nn\n",
        "import torch.optim as optim\n",
        "import torch.nn.functional as F\n",
        "from pytorch_msssim import ssim\n",
        "from torchvision import datasets, transforms\n",
        "from PIL import Image\n",
        "from torch.utils.data import Dataset, DataLoader\n",
        "import tarfile\n",
        "import os\n",
        "import shutil\n",
        "import requests\n",
        "import random\n",
        "import json\n",
        "from tqdm import tqdm\n",
        "\n",
        "\n"
      ]
    },
    {
      "cell_type": "code",
      "source": [
        "seed = 42\n",
        "random.seed(seed)\n",
        "np.random.seed(seed)\n",
        "torch.manual_seed(seed)\n",
        "torch.cuda.manual_seed_all(seed)"
      ],
      "metadata": {
        "id": "Z_gYjd5sEXRq"
      },
      "execution_count": null,
      "outputs": []
    },
    {
      "cell_type": "code",
      "source": [
        "class Encoder(nn.Module):\n",
        "    def __init__(self):\n",
        "        super().__init__()\n",
        "\n",
        "        self.conv_layers = nn.ModuleList([\n",
        "            nn.Conv2d(in_channels=3,out_channels = 32, kernel_size=3, padding=1),\n",
        "            nn.Conv2d(in_channels= 32,out_channels = 64, kernel_size=3, padding=1),\n",
        "            nn.Conv2d(in_channels= 64, out_channels=128, kernel_size=3, padding=1),\n",
        "            nn.Conv2d(in_channels= 128, out_channels=256, kernel_size=3, padding=1)\n",
        "        ])\n",
        "\n",
        "        self.pool = nn.MaxPool2d(kernel_size=2, stride=2)\n",
        "\n",
        "        self.bottleneck = nn.Conv2d(in_channels= 256,out_channels= 64, kernel_size=3, padding=1)\n",
        "\n",
        "    def forward(self, x):\n",
        "        for conv in self.conv_layers:\n",
        "            x = F.relu(conv(x))\n",
        "            x = self.pool(x)\n",
        "\n",
        "        x = F.relu(self.bottleneck(x))\n",
        "        return x\n",
        "\n",
        "\n",
        "\n"
      ],
      "metadata": {
        "id": "emtQ0izVJkLg"
      },
      "execution_count": 3,
      "outputs": []
    },
    {
      "cell_type": "code",
      "source": [
        "\n",
        "class Decoder(nn.Module):\n",
        "    def __init__(self):\n",
        "        super().__init__()\n",
        "\n",
        "        self.deconv_layers = nn.ModuleList([\n",
        "            nn.ConvTranspose2d(in_channels=64, out_channels=256, kernel_size=3, stride=1, padding=1),\n",
        "            nn.ConvTranspose2d(in_channels=256, out_channels=128, kernel_size=4, stride=2, padding=1),\n",
        "            nn.ConvTranspose2d(in_channels=128, out_channels=64, kernel_size=4, stride=2, padding=1),\n",
        "            nn.ConvTranspose2d(in_channels=64, out_channels=32, kernel_size=4, stride=2, padding=1),\n",
        "        ])\n",
        "\n",
        "        self.final_layer = nn.ConvTranspose2d(in_channels=32, out_channels = 3, kernel_size=4, stride=2, padding=1)\n",
        "\n",
        "    def forward(self, x):\n",
        "        x = F.relu(self.deconv_layers[0](x))\n",
        "        for deconv in self.deconv_layers[1:]:\n",
        "            x = F.relu(deconv(x))\n",
        "        x = torch.sigmoid(self.final_layer(x))\n",
        "        return x"
      ],
      "metadata": {
        "id": "UXl25m46KALi"
      },
      "execution_count": 4,
      "outputs": []
    },
    {
      "cell_type": "code",
      "source": [],
      "metadata": {
        "id": "0dOq42mMNvAF"
      },
      "execution_count": 4,
      "outputs": []
    },
    {
      "cell_type": "code",
      "source": [
        "encoder = Encoder()\n",
        "decoder = Decoder()\n"
      ],
      "metadata": {
        "id": "88U4Px6JgcYD"
      },
      "execution_count": 5,
      "outputs": []
    },
    {
      "cell_type": "code",
      "source": [
        "device = torch.device(\"cuda\" if torch.cuda.is_available() else \"cpu\")\n",
        "encoder.to(device)\n",
        "decoder.to(device)"
      ],
      "metadata": {
        "colab": {
          "base_uri": "https://localhost:8080/"
        },
        "id": "DrNfse_hgma-",
        "outputId": "f39fb6ec-6ec0-466d-8615-9edc862cc93b"
      },
      "execution_count": 6,
      "outputs": [
        {
          "output_type": "execute_result",
          "data": {
            "text/plain": [
              "Decoder(\n",
              "  (deconv_layers): ModuleList(\n",
              "    (0): ConvTranspose2d(64, 256, kernel_size=(3, 3), stride=(1, 1), padding=(1, 1))\n",
              "    (1): ConvTranspose2d(256, 128, kernel_size=(4, 4), stride=(2, 2), padding=(1, 1))\n",
              "    (2): ConvTranspose2d(128, 64, kernel_size=(4, 4), stride=(2, 2), padding=(1, 1))\n",
              "    (3): ConvTranspose2d(64, 32, kernel_size=(4, 4), stride=(2, 2), padding=(1, 1))\n",
              "  )\n",
              "  (final_layer): ConvTranspose2d(32, 3, kernel_size=(4, 4), stride=(2, 2), padding=(1, 1))\n",
              ")"
            ]
          },
          "metadata": {},
          "execution_count": 6
        }
      ]
    },
    {
      "cell_type": "code",
      "source": [],
      "metadata": {
        "id": "ruk3AnOXgq7S"
      },
      "execution_count": 6,
      "outputs": []
    },
    {
      "cell_type": "code",
      "source": [],
      "metadata": {
        "id": "Q7U9BXCdmDEL"
      },
      "execution_count": 6,
      "outputs": []
    },
    {
      "cell_type": "code",
      "source": [
        "\n",
        "\n",
        "url = \"https://data.caltech.edu/records/nyy15-4j048/files/256_ObjectCategories.tar?download=1\"\n",
        "dataset_path = \"256_ObjectCategories.tar\"\n",
        "\n",
        "print(f\"Downloading dataset from {url}...\")\n",
        "response = requests.get(url, stream=True)\n",
        "response.raise_for_status()  # Raise an exception for bad status codes\n",
        "\n",
        "with open(dataset_path, 'wb') as f:\n",
        "    for chunk in response.iter_content(chunk_size=8192):\n",
        "        f.write(chunk)\n",
        "\n",
        "print(\"Download complete.\")"
      ],
      "metadata": {
        "colab": {
          "base_uri": "https://localhost:8080/"
        },
        "id": "IXu-RN0Rs3ag",
        "outputId": "5810657a-d65b-4d33-97aa-6f2224717a03"
      },
      "execution_count": 7,
      "outputs": [
        {
          "output_type": "stream",
          "name": "stdout",
          "text": [
            "Downloading dataset from https://data.caltech.edu/records/nyy15-4j048/files/256_ObjectCategories.tar?download=1...\n",
            "Download complete.\n"
          ]
        }
      ]
    },
    {
      "cell_type": "code",
      "source": [
        "\n",
        "dataset_path = \"256_ObjectCategories.tar\"\n",
        "extract_dir = \"256_ObjectCategories\"\n",
        "\n",
        "if os.path.exists(dataset_path):\n",
        "    print(f\"Extracting dataset to {extract_dir}...\")\n",
        "    with tarfile.open(dataset_path, \"r\") as tar:\n",
        "        tar.extractall(path=extract_dir)\n",
        "    print(\"Extraction complete.\")\n",
        "else:\n",
        "    print(f\"Error: The file '{dataset_path}' was not found.\")"
      ],
      "metadata": {
        "colab": {
          "base_uri": "https://localhost:8080/"
        },
        "id": "AYIseVcguu3S",
        "outputId": "d06df859-90d8-4767-9974-f42886dcc2d0"
      },
      "execution_count": 8,
      "outputs": [
        {
          "output_type": "stream",
          "name": "stdout",
          "text": [
            "Extracting dataset to 256_ObjectCategories...\n"
          ]
        },
        {
          "output_type": "stream",
          "name": "stderr",
          "text": [
            "/tmp/ipython-input-2262763269.py:7: DeprecationWarning: Python 3.14 will, by default, filter extracted tar archives and reject files or modify their metadata. Use the filter argument to control this behavior.\n",
            "  tar.extractall(path=extract_dir)\n"
          ]
        },
        {
          "output_type": "stream",
          "name": "stdout",
          "text": [
            "Extraction complete.\n"
          ]
        }
      ]
    },
    {
      "cell_type": "code",
      "source": [
        "\n",
        "\n",
        "source_dir = \"256_ObjectCategories\"\n",
        "target_dir = \"dataset\"\n",
        "\n",
        "# Create the target directory if it doesn't exist\n",
        "os.makedirs(target_dir, exist_ok=True)\n",
        "\n",
        "print(f\"Consolidating images from '{source_dir}' into '{target_dir}'...\")\n",
        "\n",
        "# Iterate through all directories and files in the source directory\n",
        "for root, dirs, files in os.walk(source_dir, topdown=False): # topdown=False to process subdirectories before their parent\n",
        "    for file in files:\n",
        "        # Construct the full path to the file\n",
        "        file_path = os.path.join(root, file)\n",
        "        # Construct the new path for the file in the target directory\n",
        "        new_file_path = os.path.join(target_dir, file)\n",
        "\n",
        "        # Ensure unique filenames if necessary (optional, depending on dataset)\n",
        "        # If filenames might not be unique, you might want to rename them\n",
        "        # For this dataset, it seems filenames within a category are unique,\n",
        "        # but filenames across categories might not be. Let's rename them\n",
        "        # to include the category name to be safe.\n",
        "\n",
        "        # Get the category name from the root path\n",
        "        category_name = os.path.basename(root)\n",
        "        if category_name and category_name != source_dir: # Avoid using the base source dir as category\n",
        "             new_file_name = f\"{category_name}_{file}\"\n",
        "             new_file_path = os.path.join(target_dir, new_file_name)\n",
        "\n",
        "\n",
        "        try:\n",
        "            # Move the file\n",
        "            shutil.move(file_path, new_file_path)\n",
        "            # print(f\"Moved: {file_path} -> {new_file_path}\") # Optional: uncomment to see file movements\n",
        "        except Exception as e:\n",
        "            print(f\"Error moving file {file_path}: {e}\")\n",
        "\n",
        "    # After moving files, remove the subdirectory if it's empty\n",
        "    if root != source_dir and not os.listdir(root):\n",
        "        try:\n",
        "            os.rmdir(root)\n",
        "            # print(f\"Removed empty directory: {root}\") # Optional: uncomment to see removed directories\n",
        "        except OSError as e:\n",
        "            print(f\"Error removing directory {root}: {e}\")\n",
        "\n",
        "\n",
        "# Optional: remove the original source directory if all files/subdirs were moved\n",
        "# Be cautious with this step, only uncomment if you are sure all needed files are moved.\n",
        "# if not os.listdir(source_dir):\n",
        "#     try:\n",
        "#         os.rmdir(source_dir)\n",
        "#         print(f\"Removed original source directory: {source_dir}\")\n",
        "#     except OSError as e:\n",
        "#          print(f\"Error removing source directory {source_dir}: {e}\")\n",
        "\n",
        "\n",
        "print(\"Image consolidation complete.\")"
      ],
      "metadata": {
        "colab": {
          "base_uri": "https://localhost:8080/"
        },
        "id": "vrF4IB9bvGFa",
        "outputId": "edf5d863-c562-4215-a4d3-cef46295ecef"
      },
      "execution_count": 9,
      "outputs": [
        {
          "output_type": "stream",
          "name": "stdout",
          "text": [
            "Consolidating images from '256_ObjectCategories' into 'dataset'...\n",
            "Image consolidation complete.\n"
          ]
        }
      ]
    },
    {
      "cell_type": "code",
      "source": [
        "\n",
        "\n",
        "\n",
        "dataset_dir = '/content/dataset'\n",
        "train_dir = '/content/train'\n",
        "val_dir = '/content/val'\n",
        "\n",
        "os.makedirs(train_dir, exist_ok=True)\n",
        "os.makedirs(val_dir, exist_ok=True)\n",
        "\n",
        "# Get all image files\n",
        "all_files = [f for f in os.listdir(dataset_dir) if os.path.isfile(os.path.join(dataset_dir, f))]\n",
        "\n",
        "# Shuffle randomly\n",
        "random.shuffle(all_files)\n",
        "\n",
        "# Split 80% train, 20% val\n",
        "split_idx = int(len(all_files) * 0.8)\n",
        "train_files = all_files[:split_idx]\n",
        "val_files = all_files[split_idx:]\n",
        "\n",
        "# Move files\n",
        "for f in train_files:\n",
        "    shutil.move(os.path.join(dataset_dir, f), os.path.join(train_dir, f))\n",
        "\n",
        "for f in val_files:\n",
        "    shutil.move(os.path.join(dataset_dir, f), os.path.join(val_dir, f))\n",
        "\n",
        "print(f\"Total images: {len(all_files)}\")\n",
        "print(f\"Training images: {len(train_files)}\")\n",
        "print(f\"Validation images: {len(val_files)}\")\n"
      ],
      "metadata": {
        "colab": {
          "base_uri": "https://localhost:8080/"
        },
        "id": "trKXMLgxvrQy",
        "outputId": "ec210468-8334-4fb0-a250-d3cadcc0ce5e"
      },
      "execution_count": 10,
      "outputs": [
        {
          "output_type": "stream",
          "name": "stdout",
          "text": [
            "Total images: 30608\n",
            "Training images: 24486\n",
            "Validation images: 6122\n"
          ]
        }
      ]
    },
    {
      "cell_type": "code",
      "source": [
        "from PIL import Image\n",
        "import os\n",
        "from torchvision import transforms\n",
        "\n",
        "transform1 = transforms.Resize((256, 256))  # returns PIL Image\n",
        "\n",
        "def process_and_save_images(src_dir):\n",
        "    i=0\n",
        "    for fname in os.listdir(src_dir):\n",
        "      try:\n",
        "          i+=1\n",
        "          fpath = os.path.join(src_dir, fname)\n",
        "          if os.path.isfile(fpath):\n",
        "              img = Image.open(fpath).convert('RGB')  # ensure 3 channels\n",
        "              img_resized = transform1(img)  # Resize\n",
        "              img_resized.save(fpath)        # Save resized image\n",
        "              if i % 100 == 0:\n",
        "                  print(f\"Processed {i} images\")\n",
        "      except Exception as e:\n",
        "          os.remove(fpath)\n",
        "          print(f\"Error processing {fpath}: {e}\")\n",
        "\n",
        "\n",
        "\n",
        "\n",
        "# Process train and val\n",
        "process_and_save_images(train_dir)\n",
        "process_and_save_images(val_dir)\n"
      ],
      "metadata": {
        "colab": {
          "base_uri": "https://localhost:8080/"
        },
        "id": "-mucGW7QxAnd",
        "outputId": "5a20422e-9c35-41ea-e27b-a8e490f21faf"
      },
      "execution_count": 14,
      "outputs": [
        {
          "output_type": "stream",
          "name": "stdout",
          "text": [
            "Processed 100 images\n",
            "Processed 200 images\n",
            "Processed 300 images\n",
            "Processed 400 images\n",
            "Processed 500 images\n",
            "Processed 600 images\n",
            "Processed 700 images\n",
            "Processed 800 images\n",
            "Processed 900 images\n",
            "Processed 1000 images\n",
            "Processed 1100 images\n",
            "Processed 1200 images\n",
            "Processed 1300 images\n",
            "Processed 1400 images\n",
            "Processed 1500 images\n",
            "Processed 1600 images\n",
            "Processed 1700 images\n",
            "Processed 1800 images\n",
            "Processed 1900 images\n",
            "Processed 2000 images\n",
            "Processed 2100 images\n",
            "Processed 2200 images\n",
            "Processed 2300 images\n",
            "Processed 2400 images\n",
            "Processed 2500 images\n",
            "Processed 2600 images\n",
            "Processed 2700 images\n",
            "Processed 2800 images\n",
            "Processed 2900 images\n",
            "Processed 3000 images\n",
            "Processed 3100 images\n",
            "Processed 3200 images\n",
            "Processed 3300 images\n",
            "Processed 3400 images\n",
            "Processed 3500 images\n",
            "Processed 3600 images\n",
            "Processed 3700 images\n",
            "Processed 3800 images\n",
            "Processed 3900 images\n",
            "Processed 4000 images\n",
            "Processed 4100 images\n",
            "Processed 4200 images\n",
            "Processed 4300 images\n",
            "Processed 4400 images\n",
            "Processed 4500 images\n",
            "Processed 4600 images\n",
            "Processed 4700 images\n",
            "Processed 4800 images\n",
            "Processed 4900 images\n",
            "Processed 5000 images\n",
            "Processed 5100 images\n",
            "Processed 5200 images\n",
            "Processed 5300 images\n",
            "Processed 5400 images\n",
            "Processed 5500 images\n",
            "Processed 5600 images\n",
            "Processed 5700 images\n",
            "Processed 5800 images\n",
            "Processed 5900 images\n",
            "Processed 6000 images\n",
            "Processed 6100 images\n",
            "Processed 6200 images\n",
            "Processed 6300 images\n",
            "Processed 6400 images\n",
            "Processed 6500 images\n",
            "Processed 6600 images\n",
            "Processed 6700 images\n",
            "Processed 6800 images\n",
            "Processed 6900 images\n",
            "Processed 7000 images\n",
            "Processed 7100 images\n",
            "Processed 7200 images\n",
            "Processed 7300 images\n",
            "Processed 7400 images\n",
            "Processed 7500 images\n",
            "Processed 7600 images\n",
            "Processed 7700 images\n",
            "Processed 7800 images\n",
            "Processed 7900 images\n",
            "Processed 8000 images\n",
            "Processed 8100 images\n",
            "Processed 8200 images\n",
            "Processed 8300 images\n",
            "Processed 8400 images\n",
            "Processed 8500 images\n",
            "Processed 8600 images\n",
            "Processed 8700 images\n",
            "Processed 8800 images\n",
            "Processed 8900 images\n",
            "Processed 9000 images\n",
            "Processed 9100 images\n",
            "Processed 9200 images\n",
            "Processed 9300 images\n",
            "Processed 9400 images\n",
            "Processed 9500 images\n",
            "Processed 9600 images\n",
            "Processed 9700 images\n",
            "Processed 9800 images\n",
            "Processed 9900 images\n",
            "Processed 10000 images\n",
            "Processed 10100 images\n",
            "Processed 10200 images\n",
            "Processed 10300 images\n",
            "Processed 10400 images\n",
            "Processed 10500 images\n",
            "Processed 10600 images\n",
            "Processed 10700 images\n",
            "Processed 10800 images\n",
            "Processed 10900 images\n",
            "Processed 11000 images\n",
            "Processed 11100 images\n",
            "Processed 11200 images\n",
            "Processed 11300 images\n",
            "Processed 11400 images\n",
            "Processed 11500 images\n",
            "Processed 11600 images\n",
            "Processed 11700 images\n",
            "Processed 11800 images\n",
            "Processed 11900 images\n",
            "Processed 12000 images\n",
            "Processed 12100 images\n",
            "Processed 12200 images\n",
            "Processed 12300 images\n",
            "Processed 12400 images\n",
            "Processed 12500 images\n",
            "Processed 12600 images\n",
            "Processed 12700 images\n",
            "Processed 12800 images\n",
            "Processed 12900 images\n",
            "Processed 13000 images\n",
            "Processed 13100 images\n",
            "Processed 13200 images\n",
            "Processed 13300 images\n",
            "Processed 13400 images\n",
            "Processed 13500 images\n",
            "Processed 13600 images\n",
            "Processed 13700 images\n",
            "Processed 13800 images\n",
            "Processed 13900 images\n",
            "Processed 14000 images\n",
            "Processed 14100 images\n",
            "Processed 14200 images\n",
            "Processed 14300 images\n",
            "Processed 14400 images\n",
            "Processed 14500 images\n",
            "Processed 14600 images\n",
            "Processed 14700 images\n",
            "Processed 14800 images\n",
            "Processed 14900 images\n",
            "Processed 15000 images\n",
            "Processed 15100 images\n",
            "Processed 15200 images\n",
            "Processed 15300 images\n",
            "Processed 15400 images\n",
            "Processed 15500 images\n",
            "Processed 15600 images\n",
            "Processed 15700 images\n",
            "Processed 15800 images\n",
            "Processed 15900 images\n",
            "Processed 16000 images\n",
            "Processed 16100 images\n",
            "Processed 16200 images\n",
            "Processed 16300 images\n",
            "Processed 16400 images\n",
            "Processed 16500 images\n",
            "Processed 16600 images\n",
            "Processed 16700 images\n",
            "Processed 16800 images\n",
            "Processed 16900 images\n",
            "Processed 17000 images\n",
            "Processed 17100 images\n",
            "Processed 17200 images\n",
            "Processed 17300 images\n",
            "Processed 17400 images\n",
            "Processed 17500 images\n",
            "Processed 17600 images\n",
            "Processed 17700 images\n",
            "Processed 17800 images\n",
            "Processed 17900 images\n",
            "Processed 18000 images\n",
            "Processed 18100 images\n",
            "Processed 18200 images\n",
            "Processed 18300 images\n",
            "Processed 18400 images\n",
            "Processed 18500 images\n",
            "Processed 18600 images\n",
            "Processed 18700 images\n",
            "Processed 18800 images\n",
            "Processed 18900 images\n",
            "Processed 19000 images\n",
            "Processed 19100 images\n",
            "Processed 19200 images\n",
            "Error processing /content/train/198.spider_RENAME2: cannot identify image file '/content/train/198.spider_RENAME2'\n",
            "Processed 19300 images\n",
            "Processed 19400 images\n",
            "Processed 19500 images\n",
            "Processed 19600 images\n",
            "Processed 19700 images\n",
            "Processed 19800 images\n",
            "Processed 19900 images\n",
            "Processed 20000 images\n",
            "Processed 20100 images\n",
            "Processed 20200 images\n",
            "Processed 20300 images\n",
            "Processed 20400 images\n",
            "Processed 20500 images\n",
            "Processed 20600 images\n",
            "Processed 20700 images\n",
            "Processed 20800 images\n",
            "Processed 20900 images\n",
            "Processed 21000 images\n",
            "Processed 21100 images\n",
            "Processed 21200 images\n",
            "Processed 21300 images\n",
            "Processed 21400 images\n",
            "Processed 21500 images\n",
            "Processed 21600 images\n",
            "Processed 21700 images\n",
            "Processed 21800 images\n",
            "Processed 21900 images\n",
            "Processed 22000 images\n",
            "Processed 22100 images\n",
            "Processed 22200 images\n",
            "Processed 22300 images\n",
            "Processed 22400 images\n",
            "Processed 22500 images\n",
            "Processed 22600 images\n",
            "Processed 22700 images\n",
            "Processed 22800 images\n",
            "Processed 22900 images\n",
            "Processed 23000 images\n",
            "Processed 23100 images\n",
            "Processed 23200 images\n",
            "Processed 23300 images\n",
            "Processed 23400 images\n",
            "Processed 23500 images\n",
            "Processed 23600 images\n",
            "Processed 23700 images\n",
            "Processed 23800 images\n",
            "Processed 23900 images\n",
            "Processed 24000 images\n",
            "Processed 24100 images\n",
            "Processed 24200 images\n",
            "Processed 24300 images\n",
            "Processed 24400 images\n"
          ]
        }
      ]
    },
    {
      "cell_type": "code",
      "source": [
        "\n",
        "\n",
        "transform = transforms.Compose([\n",
        "    transforms.ToTensor()\n",
        "])\n",
        "\n",
        "class ImageFolderNoClass(Dataset):\n",
        "    def __init__(self, folder_path, transform=None):\n",
        "        self.folder_path = folder_path\n",
        "        self.transform = transform\n",
        "        self.image_files = [os.path.join(folder_path, f)\n",
        "                            for f in os.listdir(folder_path)\n",
        "                            if os.path.isfile(os.path.join(folder_path, f))]\n",
        "\n",
        "    def __len__(self):\n",
        "        return len(self.image_files)\n",
        "\n",
        "    def __getitem__(self, idx):\n",
        "        img_path = self.image_files[idx]\n",
        "        img = Image.open(img_path).convert('RGB')\n",
        "        if self.transform:\n",
        "            img = self.transform(img)\n",
        "        return img\n",
        "\n",
        "# Paths\n",
        "train_dir = '/content/train'\n",
        "val_dir = '/content/val'\n",
        "\n",
        "# Create datasets\n",
        "train_dataset = ImageFolderNoClass(train_dir, transform=transform)\n",
        "val_dataset = ImageFolderNoClass(val_dir, transform=transform)\n",
        "\n",
        "# Create dataloaders\n",
        "train_loader = DataLoader(train_dataset, batch_size=32, shuffle=True)\n",
        "val_loader = DataLoader(val_dataset, batch_size=32, shuffle=False)\n",
        "\n",
        "for batch in train_loader:\n",
        "    print(batch.shape)\n",
        "    break\n"
      ],
      "metadata": {
        "colab": {
          "base_uri": "https://localhost:8080/"
        },
        "id": "2KPJ_rVyy6cD",
        "outputId": "a5ae42b0-dde9-4b61-d171-0d52afcd95b8"
      },
      "execution_count": 15,
      "outputs": [
        {
          "output_type": "stream",
          "name": "stdout",
          "text": [
            "torch.Size([32, 3, 256, 256])\n"
          ]
        }
      ]
    },
    {
      "cell_type": "code",
      "source": [
        "\n",
        "# Device\n",
        "device = torch.device('cuda' if torch.cuda.is_available() else 'cpu')\n",
        "print(f\"Using device: {device}\")\n",
        "\n",
        "# Directories\n",
        "os.makedirs('./checkpoints', exist_ok=True)\n",
        "loss_file = './checkpoints/losses.json'\n",
        "model_path = './checkpoints/model.pth'\n",
        "\n",
        "# Initialize models\n",
        "encoder = Encoder().to(device)\n",
        "decoder = Decoder().to(device)\n",
        "\n",
        "# Optimizer & loss\n",
        "optimizer = optim.Adam(list(encoder.parameters()) + list(decoder.parameters()), lr=0.001)\n",
        "l1_criterion = nn.L1Loss()\n",
        "\n",
        "# Load checkpoint if exists\n",
        "start_epoch = 0\n",
        "losses_dict = {\n",
        "    'train_l1': [], 'train_ssim': [], 'train_total': [],\n",
        "    'val_l1': [], 'val_ssim': [], 'val_total': []\n",
        "}\n",
        "\n",
        "if os.path.exists(model_path):\n",
        "    print(f\"Loading checkpoint from {model_path}...\")\n",
        "    checkpoint = torch.load(model_path, map_location=device)\n",
        "    encoder.load_state_dict(checkpoint['encoder_state_dict'])\n",
        "    decoder.load_state_dict(checkpoint['decoder_state_dict'])\n",
        "    optimizer.load_state_dict(checkpoint['optimizer_state_dict'])\n",
        "    start_epoch = checkpoint['epoch']\n",
        "    losses_dict = checkpoint.get('losses', losses_dict)\n",
        "    print(f\"Checkpoint loaded. Resuming from epoch {start_epoch}\")\n",
        "else:\n",
        "    print(\"No checkpoint found. Starting fresh training.\")\n",
        "\n",
        "# Training loop\n",
        "num_epochs = 20\n",
        "for epoch in range(start_epoch, start_epoch + num_epochs):\n",
        "    encoder.train()\n",
        "    decoder.train()\n",
        "    running_l1, running_ssim, running_total = 0.0, 0.0, 0.0\n",
        "\n",
        "    for images in tqdm(train_loader, desc=f\"Epoch {epoch+1}/{start_epoch + num_epochs} [Training]\"):\n",
        "        images = images.to(device)\n",
        "\n",
        "        optimizer.zero_grad()\n",
        "        latent = encoder(images)\n",
        "        outputs = decoder(latent)\n",
        "\n",
        "        l1_loss_val = l1_criterion(outputs, images)\n",
        "        ssim_val = ssim(outputs, images, data_range=1.0, size_average = True)\n",
        "        total_loss = 0.8 * l1_loss_val + 0.2 * (1 - ssim_val)\n",
        "\n",
        "        total_loss.backward()\n",
        "        optimizer.step()\n",
        "\n",
        "        running_l1 += l1_loss_val.item()\n",
        "        running_ssim += ssim_val.item()\n",
        "        running_total += total_loss.item()\n",
        "\n",
        "    # Training loss averages\n",
        "    train_l1_avg = running_l1 / len(train_loader)\n",
        "    train_ssim_avg = running_ssim / len(train_loader)\n",
        "    train_total_avg = running_total / len(train_loader)\n",
        "\n",
        "    losses_dict['train_l1'].append(train_l1_avg)\n",
        "    losses_dict['train_ssim'].append(train_ssim_avg)\n",
        "    losses_dict['train_total'].append(train_total_avg)\n",
        "\n",
        "    # Validation\n",
        "    encoder.eval()\n",
        "    decoder.eval()\n",
        "    val_l1_total, val_ssim_total, val_total_total = 0.0, 0.0, 0.0\n",
        "\n",
        "    with torch.no_grad():\n",
        "        for images in tqdm(val_loader, desc=f\"Epoch {epoch+1}/{start_epoch + num_epochs} [Validation]\"):\n",
        "            images = images.to(device)\n",
        "            latent = encoder(images)\n",
        "            outputs = decoder(latent)\n",
        "\n",
        "            l1_loss_val = l1_criterion(outputs, images)\n",
        "            ssim_val = ssim(outputs, images, data_range=1.0, size_average = True)\n",
        "            total_loss = 0.8 * l1_loss_val + 0.2 * (1 - ssim_val)\n",
        "\n",
        "            val_l1_total += l1_loss_val.item()\n",
        "            val_ssim_total += ssim_val.item()\n",
        "            val_total_total += total_loss.item()\n",
        "\n",
        "    val_l1_avg = val_l1_total / len(val_loader)\n",
        "    val_ssim_avg = val_ssim_total / len(val_loader)\n",
        "    val_total_avg = val_total_total / len(val_loader)\n",
        "\n",
        "    losses_dict['val_l1'].append(val_l1_avg)\n",
        "    losses_dict['val_ssim'].append(val_ssim_avg)\n",
        "    losses_dict['val_total'].append(val_total_avg)\n",
        "\n",
        "    print(f\"Epoch [{epoch+1}/{start_epoch + num_epochs}] \"\n",
        "          f\"Train Loss: {train_total_avg:.4f} (L1: {train_l1_avg:.4f}, SSIM: {train_ssim_avg:.4f}) \"\n",
        "          f\"Val Loss: {val_total_avg:.4f} (L1: {val_l1_avg:.4f}, SSIM: {val_ssim_avg:.4f})\")\n",
        "\n",
        "    # checkpointing\n",
        "    torch.save({\n",
        "        'encoder_state_dict': encoder.state_dict(),\n",
        "        'decoder_state_dict': decoder.state_dict(),\n",
        "        'optimizer_state_dict': optimizer.state_dict(),\n",
        "        'epoch': epoch + 1,\n",
        "        'losses': losses_dict\n",
        "    }, model_path)\n",
        "\n",
        "\n",
        "\n",
        "    # Save JSON\n",
        "    with open(loss_file, 'w') as f:\n",
        "        json.dump(losses_dict, f, indent=4)\n"
      ],
      "metadata": {
        "colab": {
          "base_uri": "https://localhost:8080/"
        },
        "id": "gWXUJEI2zci8",
        "outputId": "05adce4d-bd49-4b75-f433-147dea859f83"
      },
      "execution_count": null,
      "outputs": [
        {
          "output_type": "stream",
          "name": "stdout",
          "text": [
            "Using device: cuda\n",
            "No checkpoint found. Starting fresh training.\n"
          ]
        },
        {
          "output_type": "stream",
          "name": "stderr",
          "text": [
            "Epoch 1/20 [Training]: 100%|██████████| 766/766 [02:30<00:00,  5.11it/s]\n",
            "Epoch 1/20 [Validation]: 100%|██████████| 192/192 [00:20<00:00,  9.33it/s]\n"
          ]
        },
        {
          "output_type": "stream",
          "name": "stdout",
          "text": [
            "Epoch [1/20] Train Loss: 0.1785 (L1: 0.1099, SSIM: 0.5469) Val Loss: 0.1386 (L1: 0.0755, SSIM: 0.6089)\n"
          ]
        },
        {
          "output_type": "stream",
          "name": "stderr",
          "text": [
            "Epoch 2/20 [Training]:  51%|█████     | 392/766 [01:15<01:10,  5.32it/s]"
          ]
        }
      ]
    },
    {
      "cell_type": "code",
      "source": [],
      "metadata": {
        "id": "DmZvxg7RAPpA"
      },
      "execution_count": null,
      "outputs": []
    }
  ]
}